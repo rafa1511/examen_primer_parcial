{
  "nbformat": 4,
  "nbformat_minor": 0,
  "metadata": {
    "colab": {
      "name": "examen.ipynb",
      "provenance": [],
      "collapsed_sections": []
    },
    "kernelspec": {
      "name": "python3",
      "display_name": "Python 3"
    }
  },
  "cells": [
    {
      "cell_type": "markdown",
      "metadata": {
        "id": "EiWOUhkK7x8V"
      },
      "source": [
        "ejercicio 1: escribe un programa que calcule las raices de ecuacion cuadratica "
      ]
    },
    {
      "cell_type": "code",
      "metadata": {
        "id": "xrw3pzCc78T8"
      },
      "source": [
        "\n",
        "def raices(a,b,c):\n",
        "  x1=((-b+(((b**2)-(4*a*c))**(0.5)))/(2*a))\n",
        "  x2=((-b-(((b**2)-(4*a*c))**(0.5)))/(2*a))\n",
        "  print(\"la raiz x1 es = \",x1)\n",
        "  print(\"la raiz x2 es = \",x2)\n",
        "  return \"operacion exitosa\"\n",
        "\n",
        "\n",
        "print(\"si tiene una ecuacion de esta forma: ax^2 +bx +c \")\n",
        "\n",
        "a=float(input(\"ingrese la parte que corresponde a la letra a: \"))\n",
        "b=float(input(\"ingrese la parte que corresponde a la leltra b: \"))\n",
        "c=float(input(\"ingrese la parte que corresponde a la letra c: \"))\n",
        "\n",
        "discriminante=(b**2)-(4*a*c)\n",
        "\n",
        "while discriminante<0:\n",
        "  print(\"\\n¡error, el discriminante tiene que ser positivo!\")\n",
        "  a=float(input(\"ingrese la parte que corresponde a la letra a: \"))\n",
        "  b=float(input(\"ingrese la parte que corresponde a la leltra b: \"))\n",
        "  c=float(input(\"ingrese la parte que corresponde a la letra c: \"))\n",
        "  discriminante=(b**2)-(4*a*c)\n",
        "\n",
        "print(raices(a,b,c))\n",
        "\n"
      ],
      "execution_count": null,
      "outputs": []
    },
    {
      "cell_type": "markdown",
      "metadata": {
        "id": "Ip_dQigDdRbU"
      },
      "source": [
        "Ejercicio 2: sea la funcion f(x)=e^-x  realizar una funcion que acepte como argumento el valor de x que calcule el valor de f(x) y que lo regrese a la funcion principal \n",
        "En el programa principal, debe de hacer un bucle que ayude a evaluar la funcion con valores desde -4 hasta 10 y que pare el bucle cuando el valor de e f(x) sea menor que 0.0025"
      ]
    },
    {
      "cell_type": "code",
      "metadata": {
        "id": "2UnEtHfNLjDi"
      },
      "source": [
        "\n",
        "e=2.7182818284\n",
        "\n",
        "\n",
        "def funcion(x):\n",
        "  e=2.7182818284\n",
        "  func=(e**-x)\n",
        "  return func\n",
        "  \n",
        "print(\"se tiene la funcion: f(x)=e^-x\")\n",
        "\n",
        "print(\"se evalua en -4 a 10\")\n",
        "\n",
        "evaluaciones=[]\n",
        "rango=[]\n",
        "contador=-4\n",
        "while (-4<=contador<10):\n",
        "  x=contador\n",
        "  evaluaciones.append(funcion(x))\n",
        "  rango.append(x)\n",
        "  contador+=1\n",
        "  if funcion(x)<0.0025:\n",
        "    break \n",
        "print(\"la evalucion se termina porque el resultado es menor a 0.0025\")\n",
        "print(\"Los valores de la función evaluada de -4 a 10 son:\\n\",rango,\"\\n\",evaluaciones)"
      ],
      "execution_count": null,
      "outputs": []
    }
  ]
}